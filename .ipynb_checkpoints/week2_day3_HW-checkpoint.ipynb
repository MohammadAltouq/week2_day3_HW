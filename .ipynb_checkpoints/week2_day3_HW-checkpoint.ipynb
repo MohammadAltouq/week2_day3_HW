{
 "cells": [
  {
   "cell_type": "markdown",
   "id": "f5dee9a2",
   "metadata": {},
   "source": [
    "# Exercises"
   ]
  },
  {
   "cell_type": "markdown",
   "id": "812ea591",
   "metadata": {},
   "source": [
    "### 1) Build a Shopping Cart <br>\n",
    "<p><b>You can use either lists or dictionaries. The program should have the following capabilities:</b><br><br>\n",
    "1) Takes in input <br>\n",
    "2) Stores user input into a dictionary or list <br>\n",
    "3) The User can add or delete items <br>\n",
    "4) The User can see current shopping list <br>\n",
    "5) The program Loops until user 'quits' <br>\n",
    "6) Upon quiting the program, print out all items in the user's list <br>\n",
    "</p>"
   ]
  },
  {
   "cell_type": "code",
   "execution_count": null,
   "id": "a1a7b547",
   "metadata": {},
   "outputs": [],
   "source": [
    "from IPython.display import clear_output\n",
    "# Ask the user four bits of input: Do you want to : Show/Add/Delete or Quit?\n",
    "\n",
    "def s_cart():\n",
    "    d = {}\n",
    "    print(\"welcome to the shopping cart\\n--------------------------------\")\n",
    "    while True:\n",
    "        user_input = input(\"Do you want to : Show/Add/Delete or Quit?\")\n",
    "\n",
    "        if user_input.lower().strip() == \"show\" :\n",
    "            clear_output()\n",
    "            for k in d:\n",
    "                print(k, \":\" ,d[k])\n",
    "                \n",
    "        elif user_input.lower().strip() == \"add\":\n",
    "            clear_output()\n",
    "            item = input(\"What is the item you want to add: \")\n",
    "            quantity = int(input(\"how many would you like to add or enter 0 to cancel: \"))\n",
    "            if item not in d and quantity != 0:\n",
    "                d[item] = quantity\n",
    "            elif item in d and quantity != 0:\n",
    "                d[item] += quantity\n",
    "            print(\"Item added\")\n",
    "            \n",
    "        elif user_input.lower().strip() == \"delete\":\n",
    "            clear_output()\n",
    "            item = input(\"What is the item you want to delete or enter 'cancel' to go back to main page: \")\n",
    "            if item in d:\n",
    "                del d[item]\n",
    "                print(\"Item deleted\")\n",
    "            elif item.lower().strip() == 'cancel':        \n",
    "                pass\n",
    "        elif user_input.lower().strip() == \"quit\":\n",
    "            clear_output()\n",
    "            print(\"This is your final items: \\n------------------------\")\n",
    "            for k in d:\n",
    "                print(k, \":\" ,d[k])\n",
    "            confirm = input(\"Enter 'confirm' to finalize your purchase or enter 'cancel' to delete the cart: \")\n",
    "            if confirm.lower().strip() == \"confirm\":\n",
    "                print(\"Thank you for your purchase\")\n",
    "            elif confirm.lower().strip() == \"cancel\":\n",
    "                print(\"Order canceled\")\n",
    "            break\n",
    "\n",
    "s_cart()\n",
    "    "
   ]
  },
  {
   "cell_type": "markdown",
   "id": "c895f4b2",
   "metadata": {},
   "source": [
    "### 2) Create a Module in VS Code and Import It into jupyter notebook <br>\n",
    "<p><b>Module should have the following capabilities:</b><br><br>\n",
    "1) Has a function to calculate the square footage of a house <br>\n",
    "    <b>Reminder of Formula: Length X Width == Area<br>\n",
    "        <hr>\n",
    "2) Has a function to calculate the circumference of a circle <br><br>\n",
    "<b>Program in Jupyter Notebook should take in user input and use imported functions to calculate a circle's circumference or a houses square footage</b>\n",
    "</p>"
   ]
  },
  {
   "cell_type": "code",
   "execution_count": null,
   "id": "6a5e2b4a",
   "metadata": {},
   "outputs": [],
   "source": [
    "\n",
    "\n",
    "from module import area as a, circ as c\n",
    "while True:\n",
    "    input_1 = input(\"Enter 'area'-'circle' or to exit enter 'exit': \")\n",
    "    if input_1.strip().lower() == \"area\":\n",
    "        input_11 = int(input(\"Enter the Length: \"))\n",
    "        input_12 = int(input(\"Enter the Width: \"))\n",
    "        print(f\"The area is {a(input_11,input_12)}\")\n",
    "    elif input_1.strip().lower() == \"circle\":\n",
    "        input_11 = int(input(\"Enter the radius: \"))\n",
    "        print(f\"The circumference is {c(input_11)}\")\n",
    "    elif input_1.strip().lower() == \"exit\":\n",
    "        print(\"Goodbye\")\n",
    "        break\n",
    "        \n"
   ]
  },
  {
   "cell_type": "code",
   "execution_count": null,
   "id": "e9c48173",
   "metadata": {},
   "outputs": [],
   "source": []
  }
 ],
 "metadata": {
  "kernelspec": {
   "display_name": "Python 3 (ipykernel)",
   "language": "python",
   "name": "python3"
  },
  "language_info": {
   "codemirror_mode": {
    "name": "ipython",
    "version": 3
   },
   "file_extension": ".py",
   "mimetype": "text/x-python",
   "name": "python",
   "nbconvert_exporter": "python",
   "pygments_lexer": "ipython3",
   "version": "3.9.13"
  },
  "vscode": {
   "interpreter": {
    "hash": "e5e92f6b16b3b84d17c6909cf16b79aaee1d06adafea1f6f00eaf831c007454d"
   }
  }
 },
 "nbformat": 4,
 "nbformat_minor": 5
}
